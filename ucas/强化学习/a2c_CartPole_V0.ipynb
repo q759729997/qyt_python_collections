{
  "nbformat": 4,
  "nbformat_minor": 0,
  "metadata": {
    "colab": {
      "name": "a2c_CartPole-V0.ipynb",
      "provenance": [],
      "collapsed_sections": []
    },
    "kernelspec": {
      "name": "python3",
      "display_name": "Python 3"
    },
    "accelerator": "GPU"
  },
  "cells": [
    {
      "cell_type": "markdown",
      "metadata": {
        "id": "MSs6ZjtV-t00",
        "colab_type": "text"
      },
      "source": [
        "#车杆平衡问题:CartPole-V0"
      ]
    },
    {
      "cell_type": "markdown",
      "metadata": {
        "id": "JFA0tc1I--Wn",
        "colab_type": "text"
      },
      "source": [
        "- 问题描述：一个小车可以在直线滑轨上移动，一个杆子一头连着小车，另外一头悬空，可以不完全智力。小车的初始位置和杆子的初始角度都是在一定范围内随机选取的。\n",
        "- 智能体可以控制小车沿着滑轨左移一个单位或者右移1段固定长度，不可以不移动。\n",
        "- 出现以下情形中的任一情形时，回合结束：\n",
        "  - 杆子的倾斜角超过12°；\n",
        "  - 小车移动超过2.4个单位长度；\n",
        "  - 一个回合内达到200步；\n",
        "- 每进行一步得到一个单位的奖励，希望回合尽量长。目标希望100个回合平均奖励超过195."
      ]
    },
    {
      "cell_type": "code",
      "metadata": {
        "id": "NaSDqaFa2iiP",
        "colab_type": "code",
        "outputId": "f15548d9-2adc-4d2d-ca8f-359f0dfb2b4e",
        "colab": {
          "base_uri": "https://localhost:8080/",
          "height": 35
        }
      },
      "source": [
        "# 日志初始化\n",
        "import logging\n",
        "logging.basicConfig(format='%(asctime)s : %(levelname)s : %(message)s', level=logging.INFO)\n",
        "logging.info('logging test')"
      ],
      "execution_count": 1,
      "outputs": [
        {
          "output_type": "stream",
          "text": [
            "2020-06-13 03:52:30,295 : INFO : logging test\n"
          ],
          "name": "stderr"
        }
      ]
    },
    {
      "cell_type": "code",
      "metadata": {
        "id": "Lhy_OV2R3dnP",
        "colab_type": "code",
        "colab": {}
      },
      "source": [
        "%matplotlib inline"
      ],
      "execution_count": 0,
      "outputs": []
    },
    {
      "cell_type": "code",
      "metadata": {
        "id": "9GHYarS534ZU",
        "colab_type": "code",
        "colab": {}
      },
      "source": [
        "import gym\n",
        "import numpy as np"
      ],
      "execution_count": 0,
      "outputs": []
    },
    {
      "cell_type": "code",
      "metadata": {
        "id": "dxaX16bBAnZJ",
        "colab_type": "code",
        "outputId": "91fd4391-7116-41d3-9353-23ca5205d49d",
        "colab": {
          "base_uri": "https://localhost:8080/",
          "height": 89
        }
      },
      "source": [
        "env = gym.make('CartPole-v0')\n",
        "logging.info('观测空间：{}'.format(env.observation_space))\n",
        "logging.info('动作空间：{}'.format(env.action_space))\n",
        "logging.info('观测范围：{}至{}'.format(env.observation_space.low, env.observation_space.high))\n",
        "logging.info('动作数：{}'.format(env.action_space.n))"
      ],
      "execution_count": 4,
      "outputs": [
        {
          "output_type": "stream",
          "text": [
            "2020-06-13 03:52:31,120 : INFO : 观测空间：Box(4,)\n",
            "2020-06-13 03:52:31,121 : INFO : 动作空间：Discrete(2)\n",
            "2020-06-13 03:52:31,122 : INFO : 观测范围：[-4.8000002e+00 -3.4028235e+38 -4.1887903e-01 -3.4028235e+38]至[4.8000002e+00 3.4028235e+38 4.1887903e-01 3.4028235e+38]\n",
            "2020-06-13 03:52:31,123 : INFO : 动作数：2\n"
          ],
          "name": "stderr"
        }
      ]
    },
    {
      "cell_type": "markdown",
      "metadata": {
        "id": "1GZE-o37BS4S",
        "colab_type": "text"
      },
      "source": [
        "- 观察值有4个分量，分别是小车位置、小车速度、杆子角度、杆子角速度。\n",
        "- 动作取值为0或1，分别表示向左和向右。"
      ]
    },
    {
      "cell_type": "markdown",
      "metadata": {
        "id": "tRyhyN3i2qa1",
        "colab_type": "text"
      },
      "source": [
        "## 随机策略"
      ]
    },
    {
      "cell_type": "code",
      "metadata": {
        "id": "TnBo50ByChDl",
        "colab_type": "code",
        "colab": {}
      },
      "source": [
        "def play(env, render=False):\n",
        "    episode_reward = 0\n",
        "    observation = env.reset()\n",
        "    step = 0\n",
        "    while True:\n",
        "        if render:\n",
        "            env.render()\n",
        "        action = env.action_space.sample()\n",
        "        next_observation, reward, done, _ = env.step(action)\n",
        "        \n",
        "        episode_reward += reward\n",
        "        if done:\n",
        "            break\n",
        "        step += 1\n",
        "        observation = next_observation\n",
        "    return episode_reward"
      ],
      "execution_count": 0,
      "outputs": []
    },
    {
      "cell_type": "code",
      "metadata": {
        "id": "4iWk3RkqChzV",
        "colab_type": "code",
        "outputId": "f72dd082-e53e-4893-abe4-4b37a197185a",
        "colab": {
          "base_uri": "https://localhost:8080/",
          "height": 53
        }
      },
      "source": [
        "# 测试\n",
        "logging.info('使用随机策略进行测试')\n",
        "episode_rewards = [play(env, render=False) for _ in range(100)]\n",
        "logging.info('平均奖励为{}/{}={}'.format(sum(episode_rewards), len(episode_rewards), np.mean(episode_rewards)))"
      ],
      "execution_count": 6,
      "outputs": [
        {
          "output_type": "stream",
          "text": [
            "2020-06-13 03:52:31,142 : INFO : 使用随机策略进行测试\n",
            "2020-06-13 03:52:31,175 : INFO : 平均奖励为2174.0/100=21.74\n"
          ],
          "name": "stderr"
        }
      ]
    },
    {
      "cell_type": "markdown",
      "metadata": {
        "id": "O6T_QFA83cFI",
        "colab_type": "text"
      },
      "source": [
        "## A2C算法\n",
        "- 优势执行者/评论者算法（Advantage Actor-Critic，A2C）"
      ]
    },
    {
      "cell_type": "code",
      "metadata": {
        "id": "jKoIInQjAq1s",
        "colab_type": "code",
        "colab": {}
      },
      "source": [
        "import matplotlib.pyplot as plt\n",
        "\n",
        "import tensorflow.compat.v2 as tf\n",
        "from tensorflow import keras"
      ],
      "execution_count": 0,
      "outputs": []
    },
    {
      "cell_type": "code",
      "metadata": {
        "id": "fB2Lf2Gn39sM",
        "colab_type": "code",
        "colab": {}
      },
      "source": [
        "class RewardChart:\n",
        "    \"\"\"训练时奖励变化绘图工具类\"\"\"\n",
        "    def __init__(self):\n",
        "        self.fig, self.ax = plt.subplots(1, 1)\n",
        "\n",
        "    def plot(self, episode_rewards):\n",
        "        self.ax.clear()\n",
        "        self.ax.plot(episode_rewards)\n",
        "        self.ax.set_xlabel('iteration')\n",
        "        self.ax.set_ylabel('episode reward')\n",
        "        self.fig.canvas.draw()"
      ],
      "execution_count": 0,
      "outputs": []
    },
    {
      "cell_type": "code",
      "metadata": {
        "id": "1f8nKpglF3pa",
        "colab_type": "code",
        "outputId": "960b29cd-093b-4373-e22b-5641cb319ddb",
        "colab": {
          "base_uri": "https://localhost:8080/",
          "height": 35
        }
      },
      "source": [
        "# 输入是一个状态，是CartPole的位置、速度、角度和角速度四个变量\n",
        "observation = env.reset()\n",
        "# np.newaxis 在使用和功能上等价于 None\n",
        "input_shape = tf.convert_to_tensor(observation[np.newaxis], dtype=tf.float32).get_shape()\n",
        "logging.info('input_shape:{}'.format(input_shape))"
      ],
      "execution_count": 9,
      "outputs": [
        {
          "output_type": "stream",
          "text": [
            "2020-06-13 03:52:33,136 : INFO : input_shape:(1, 4)\n"
          ],
          "name": "stderr"
        }
      ]
    },
    {
      "cell_type": "code",
      "metadata": {
        "id": "BbLeGmRs3x43",
        "colab_type": "code",
        "outputId": "85e22fe0-38f3-4209-a927-46b48986d9d3",
        "colab": {
          "base_uri": "https://localhost:8080/",
          "height": 251
        }
      },
      "source": [
        "# 构造执行者网络\n",
        "output_size = env.action_space.n  # 输出为动作空间\n",
        "logging.info('output_size:{}'.format(output_size))\n",
        "actor_net = keras.Sequential()\n",
        "# A linear layer\n",
        "actor_net.add(keras.layers.Dense(units=32, activation=tf.nn.relu))\n",
        "# actor_net.add(keras.layers.Dense(units=16, activation=tf.nn.relu))\n",
        "actor_net.add(keras.layers.Dense(units=output_size, activation=tf.nn.softmax))\n",
        "optimizer = tf.optimizers.Adam(0.001)  # 0.001 设置学习率\n",
        "# 使用交叉熵计算loss\n",
        "actor_net.compile(optimizer=optimizer, loss=tf.losses.categorical_crossentropy)\n",
        "actor_net.build(input_shape)\n",
        "actor_net.summary()"
      ],
      "execution_count": 10,
      "outputs": [
        {
          "output_type": "stream",
          "text": [
            "2020-06-13 03:52:33,147 : INFO : output_size:2\n"
          ],
          "name": "stderr"
        },
        {
          "output_type": "stream",
          "text": [
            "Model: \"sequential\"\n",
            "_________________________________________________________________\n",
            "Layer (type)                 Output Shape              Param #   \n",
            "=================================================================\n",
            "dense (Dense)                multiple                  160       \n",
            "_________________________________________________________________\n",
            "dense_1 (Dense)              multiple                  66        \n",
            "=================================================================\n",
            "Total params: 226\n",
            "Trainable params: 226\n",
            "Non-trainable params: 0\n",
            "_________________________________________________________________\n"
          ],
          "name": "stdout"
        }
      ]
    },
    {
      "cell_type": "code",
      "metadata": {
        "id": "Ec7ysEx7GE09",
        "colab_type": "code",
        "outputId": "dd0de8aa-04b5-4ee0-b614-c6de5cdc7072",
        "colab": {
          "base_uri": "https://localhost:8080/",
          "height": 251
        }
      },
      "source": [
        "# 构造评论者网络\n",
        "output_size = 1  # 输出为状态价值\n",
        "logging.info('output_size:{}'.format(output_size))\n",
        "critic_net = keras.Sequential()\n",
        "# A linear layer\n",
        "critic_net.add(keras.layers.Dense(units=32, activation=tf.nn.relu))\n",
        "# critic_net.add(keras.layers.Dense(units=16, activation=tf.nn.relu))\n",
        "critic_net.add(keras.layers.Dense(units=output_size, activation=None))\n",
        "optimizer = tf.optimizers.Adam(0.002)  # 0.002 设置学习率\n",
        "# 使用mse计算loss\n",
        "critic_net.compile(optimizer=optimizer, loss=tf.losses.mse)\n",
        "critic_net.build(input_shape)\n",
        "critic_net.summary()"
      ],
      "execution_count": 11,
      "outputs": [
        {
          "output_type": "stream",
          "text": [
            "2020-06-13 03:52:33,200 : INFO : output_size:1\n"
          ],
          "name": "stderr"
        },
        {
          "output_type": "stream",
          "text": [
            "Model: \"sequential_1\"\n",
            "_________________________________________________________________\n",
            "Layer (type)                 Output Shape              Param #   \n",
            "=================================================================\n",
            "dense_2 (Dense)              multiple                  160       \n",
            "_________________________________________________________________\n",
            "dense_3 (Dense)              multiple                  33        \n",
            "=================================================================\n",
            "Total params: 193\n",
            "Trainable params: 193\n",
            "Non-trainable params: 0\n",
            "_________________________________________________________________\n"
          ],
          "name": "stdout"
        }
      ]
    },
    {
      "cell_type": "code",
      "metadata": {
        "id": "WVcooc5z3-mN",
        "colab_type": "code",
        "colab": {}
      },
      "source": [
        "class AdvantageActorCriticAgent(object):\n",
        "    \"\"\"A2C智能体\"\"\"\n",
        "    def __init__(self, gamma=0.99):\n",
        "        self.action_n = env.action_space.n\n",
        "        self.gamma = gamma\n",
        "        self.discount = 1.\n",
        "\n",
        "    def decide(self, observation):\n",
        "        \"\"\"actor网络对observation进行预测，按概率求取下一步动作\"\"\"\n",
        "        probs = actor_net.predict(observation[np.newaxis])[0]\n",
        "        action = np.random.choice(self.action_n, p=probs)\n",
        "        return action\n",
        "\n",
        "    def learn(self, observation, action, reward, next_observation, done):\n",
        "        x = observation[np.newaxis]\n",
        "        next_x = next_observation[np.newaxis]\n",
        "        next_x_tensor = tf.convert_to_tensor(next_x, dtype=tf.float32)\n",
        "        # 使用critic网络计算observation与next_observation状态价值\n",
        "        u = reward + (1. - done) * self.gamma * critic_net.predict(next_x_tensor)\n",
        "        td_error = u - critic_net.predict(x)\n",
        "\n",
        "        # 训练执行者网络\n",
        "        x_tensor = tf.convert_to_tensor(observation[np.newaxis], dtype=tf.float32)\n",
        "        # 使用梯度带计算梯度\n",
        "        with tf.GradientTape() as tape:\n",
        "            pi_tensor = actor_net(x_tensor)[0, action]\n",
        "            logpi_tensor = tf.math.log(tf.clip_by_value(pi_tensor, 1e-6, 1.))\n",
        "            loss_tensor = -self.discount * td_error * logpi_tensor\n",
        "        grad_tensors = tape.gradient(loss_tensor, actor_net.variables)\n",
        "        # 更新执行者网络\n",
        "        actor_net.optimizer.apply_gradients(zip(grad_tensors, actor_net.variables))\n",
        "\n",
        "        # 训练评论者网络\n",
        "        critic_net.fit(x, u, verbose=0)  # 更新评论者网络\n",
        "\n",
        "        if done:\n",
        "            self.discount = 1.  # 为下一回合初始化累积折扣\n",
        "        else:\n",
        "            self.discount *= self.gamma  # 进一步累积折扣"
      ],
      "execution_count": 0,
      "outputs": []
    },
    {
      "cell_type": "code",
      "metadata": {
        "id": "J8G8IO0g4MAc",
        "colab_type": "code",
        "colab": {}
      },
      "source": [
        "def play_a2c(env, agent, train=False, render=False):\n",
        "  episode_reward = 0\n",
        "  observation = env.reset()\n",
        "  step = 0\n",
        "  while True:\n",
        "    if render:\n",
        "        env.render()\n",
        "    action = agent.decide(observation)\n",
        "    next_observation, reward, done, _ = env.step(action)\n",
        "    episode_reward += reward\n",
        "    if train:\n",
        "        agent.learn(observation, action, reward, next_observation, done)\n",
        "    if done:\n",
        "        break\n",
        "    step += 1\n",
        "    observation = next_observation\n",
        "  return episode_reward"
      ],
      "execution_count": 0,
      "outputs": []
    },
    {
      "cell_type": "code",
      "metadata": {
        "id": "Am9-zWTv4TAN",
        "colab_type": "code",
        "outputId": "b2f91d3e-63f0-40e4-a0fa-ea6c24917af0",
        "colab": {
          "base_uri": "https://localhost:8080/",
          "height": 495
        }
      },
      "source": [
        "# 训练10轮\n",
        "all_episodes = 0\n",
        "logging.info('训练10轮')\n",
        "episodes = 10\n",
        "episode_rewards = []\n",
        "chart = RewardChart()\n",
        "agent = AdvantageActorCriticAgent()\n",
        "start_episodes = all_episodes\n",
        "stop_episodes = episodes + all_episodes\n",
        "for episode in range(start_episodes, stop_episodes):\n",
        "  all_episodes += 1\n",
        "  episode_reward = play_a2c(env, agent, train=True)\n",
        "  episode_rewards.append(episode_reward)\n",
        "  logging.info('episode:{}， episode_reward：{}, average_reward:{}'.format(all_episodes, episode_reward, np.mean(episode_rewards)))\n",
        "chart.plot(episode_rewards)\n",
        "# 测试\n",
        "episode_rewards = [play_a2c(env, agent) for _ in range(100)]\n",
        "logging.info('平均奖励为{}/{}={}'.format(sum(episode_rewards), len(episode_rewards), np.mean(episode_rewards)))"
      ],
      "execution_count": 14,
      "outputs": [
        {
          "output_type": "stream",
          "text": [
            "2020-06-13 03:52:33,287 : INFO : 训练10轮\n",
            "2020-06-13 03:52:35,542 : INFO : episode:1， episode_reward：17.0, average_reward:17.0\n",
            "2020-06-13 03:52:37,000 : INFO : episode:2， episode_reward：15.0, average_reward:16.0\n",
            "2020-06-13 03:52:38,771 : INFO : episode:3， episode_reward：19.0, average_reward:17.0\n",
            "2020-06-13 03:52:40,007 : INFO : episode:4， episode_reward：13.0, average_reward:16.0\n",
            "2020-06-13 03:52:42,574 : INFO : episode:5， episode_reward：27.0, average_reward:18.2\n",
            "2020-06-13 03:52:46,062 : INFO : episode:6， episode_reward：36.0, average_reward:21.166666666666668\n",
            "2020-06-13 03:52:47,738 : INFO : episode:7， episode_reward：18.0, average_reward:20.714285714285715\n",
            "2020-06-13 03:52:48,645 : INFO : episode:8， episode_reward：10.0, average_reward:19.375\n",
            "2020-06-13 03:52:49,549 : INFO : episode:9， episode_reward：10.0, average_reward:18.333333333333332\n",
            "2020-06-13 03:52:51,186 : INFO : episode:10， episode_reward：18.0, average_reward:18.3\n",
            "2020-06-13 03:53:31,976 : INFO : 平均奖励为1960.0/100=19.6\n"
          ],
          "name": "stderr"
        },
        {
          "output_type": "display_data",
          "data": {
            "image/png": "[encoded data removed]",
            "text/plain": [
              "<Figure size 432x288 with 1 Axes>"
            ]
          },
          "metadata": {
            "tags": [],
            "needs_background": "light"
          }
        }
      ]
    },
    {
      "cell_type": "code",
      "metadata": {
        "id": "ZM6wUcDa4TD0",
        "colab_type": "code",
        "outputId": "0b1282db-c71c-4dfd-b66a-f1d034d8e504",
        "colab": {
          "base_uri": "https://localhost:8080/",
          "height": 405
        }
      },
      "source": [
        "logging.info('再训练50轮')\n",
        "episodes = 50\n",
        "# episode_rewards = []\n",
        "chart = RewardChart()\n",
        "# agent = AdvantageActorCriticAgent()\n",
        "start_episodes = all_episodes\n",
        "stop_episodes = episodes + all_episodes\n",
        "for episode in range(start_episodes, stop_episodes):\n",
        "  all_episodes += 1\n",
        "  episode_reward = play_a2c(env, agent, train=True)\n",
        "  episode_rewards.append(episode_reward)\n",
        "  if all_episodes % 10 == 0:\n",
        "    logging.info('episode:{}， episode_reward：{}, average_reward:{}'.format(all_episodes, episode_reward, np.mean(episode_rewards)))\n",
        "chart.plot(episode_rewards)\n",
        "# 测试\n",
        "episode_rewards = [play_a2c(env, agent) for _ in range(100)]\n",
        "logging.info('平均奖励为{}/{}={}'.format(sum(episode_rewards), len(episode_rewards), np.mean(episode_rewards)))"
      ],
      "execution_count": 15,
      "outputs": [
        {
          "output_type": "stream",
          "text": [
            "2020-06-13 03:53:32,086 : INFO : 再训练50轮\n",
            "2020-06-13 03:53:45,180 : INFO : episode:20， episode_reward：19.0, average_reward:19.09090909090909\n",
            "2020-06-13 03:53:59,495 : INFO : episode:30， episode_reward：18.0, average_reward:18.791666666666668\n",
            "2020-06-13 03:54:12,025 : INFO : episode:40， episode_reward：15.0, average_reward:18.376923076923077\n",
            "2020-06-13 03:54:25,468 : INFO : episode:50， episode_reward：19.0, average_reward:18.107142857142858\n",
            "2020-06-13 03:54:35,228 : INFO : episode:60， episode_reward：10.0, average_reward:17.606666666666666\n",
            "2020-06-13 03:55:04,687 : INFO : 平均奖励为1410.0/100=14.1\n"
          ],
          "name": "stderr"
        },
        {
          "output_type": "display_data",
          "data": {
            "image/png": "[encoded data removed]",
            "text/plain": [
              "<Figure size 432x288 with 1 Axes>"
            ]
          },
          "metadata": {
            "tags": [],
            "needs_background": "light"
          }
        }
      ]
    },
    {
      "cell_type": "code",
      "metadata": {
        "id": "sPjJ3EeXoSFj",
        "colab_type": "code",
        "colab": {
          "base_uri": "https://localhost:8080/",
          "height": 495
        },
        "outputId": "34ae4a90-65a1-4877-99b2-057b9eaf6a3e"
      },
      "source": [
        "logging.info('再训练100轮')\n",
        "episodes = 100\n",
        "# episode_rewards = []\n",
        "chart = RewardChart()\n",
        "# agent = AdvantageActorCriticAgent()\n",
        "start_episodes = all_episodes\n",
        "stop_episodes = episodes + all_episodes\n",
        "for episode in range(start_episodes, stop_episodes):\n",
        "  all_episodes += 1\n",
        "  episode_reward = play_a2c(env, agent, train=True)\n",
        "  episode_rewards.append(episode_reward)\n",
        "  if all_episodes % 10 == 0:\n",
        "    logging.info('episode:{}， episode_reward：{}, average_reward:{}'.format(all_episodes, episode_reward, np.mean(episode_rewards)))\n",
        "chart.plot(episode_rewards)\n",
        "# 测试\n",
        "episode_rewards = [play_a2c(env, agent) for _ in range(100)]\n",
        "logging.info('平均奖励为{}/{}={}'.format(sum(episode_rewards), len(episode_rewards), np.mean(episode_rewards)))"
      ],
      "execution_count": 16,
      "outputs": [
        {
          "output_type": "stream",
          "text": [
            "2020-06-13 03:55:04,801 : INFO : 再训练100轮\n",
            "2020-06-13 03:55:16,260 : INFO : episode:70， episode_reward：13.0, average_reward:13.945454545454545\n",
            "2020-06-13 03:55:28,308 : INFO : episode:80， episode_reward：13.0, average_reward:13.866666666666667\n",
            "2020-06-13 03:55:42,315 : INFO : episode:90， episode_reward：25.0, average_reward:13.96923076923077\n",
            "2020-06-13 03:55:58,233 : INFO : episode:100， episode_reward：17.0, average_reward:14.2\n",
            "2020-06-13 03:56:08,841 : INFO : episode:110， episode_reward：9.0, average_reward:14.026666666666667\n",
            "2020-06-13 03:56:22,447 : INFO : episode:120， episode_reward：20.0, average_reward:14.05625\n",
            "2020-06-13 03:56:41,494 : INFO : episode:130， episode_reward：65.0, average_reward:14.452941176470588\n",
            "2020-06-13 03:57:12,658 : INFO : episode:140， episode_reward：44.0, average_reward:15.533333333333333\n",
            "2020-06-13 03:57:33,083 : INFO : episode:150， episode_reward：19.0, average_reward:15.868421052631579\n",
            "2020-06-13 03:58:02,231 : INFO : episode:160， episode_reward：26.0, average_reward:16.625\n",
            "2020-06-13 03:59:57,124 : INFO : 平均奖励为5471.0/100=54.71\n"
          ],
          "name": "stderr"
        },
        {
          "output_type": "display_data",
          "data": {
            "image/png": "[encoded data removed]",
            "text/plain": [
              "<Figure size 432x288 with 1 Axes>"
            ]
          },
          "metadata": {
            "tags": [],
            "needs_background": "light"
          }
        }
      ]
    },
    {
      "cell_type": "code",
      "metadata": {
        "id": "kHawM_lQvWeL",
        "colab_type": "code",
        "colab": {
          "base_uri": "https://localhost:8080/",
          "height": 675
        },
        "outputId": "7a6a4022-0a6d-4f94-8af2-30a1ee5f4c1d"
      },
      "source": [
        "logging.info('再训练200轮')\n",
        "episodes = 200\n",
        "# episode_rewards = []\n",
        "chart = RewardChart()\n",
        "# agent = AdvantageActorCriticAgent()\n",
        "start_episodes = all_episodes\n",
        "stop_episodes = episodes + all_episodes\n",
        "for episode in range(start_episodes, stop_episodes):\n",
        "  all_episodes += 1\n",
        "  episode_reward = play_a2c(env, agent, train=True)\n",
        "  episode_rewards.append(episode_reward)\n",
        "  if all_episodes % 10 == 0:\n",
        "    logging.info('episode:{}， episode_reward：{}, average_reward:{}'.format(all_episodes, episode_reward, np.mean(episode_rewards)))\n",
        "chart.plot(episode_rewards)\n",
        "# 测试\n",
        "episode_rewards = [play_a2c(env, agent) for _ in range(100)]\n",
        "logging.info('平均奖励为{}/{}={}'.format(sum(episode_rewards), len(episode_rewards), np.mean(episode_rewards)))"
      ],
      "execution_count": 17,
      "outputs": [
        {
          "output_type": "stream",
          "text": [
            "2020-06-13 03:59:57,247 : INFO : 再训练200轮\n",
            "2020-06-13 04:00:46,784 : INFO : episode:170， episode_reward：79.0, average_reward:54.61818181818182\n",
            "2020-06-13 04:01:24,017 : INFO : episode:180， episode_reward：54.0, average_reward:53.458333333333336\n",
            "2020-06-13 04:02:08,186 : INFO : episode:190， episode_reward：85.0, average_reward:53.02307692307692\n",
            "2020-06-13 04:02:57,178 : INFO : episode:200， episode_reward：66.0, average_reward:53.1\n",
            "2020-06-13 04:03:57,914 : INFO : episode:210， episode_reward：30.0, average_reward:53.95333333333333\n",
            "2020-06-13 04:04:44,941 : INFO : episode:220， episode_reward：34.0, average_reward:53.775\n",
            "2020-06-13 04:05:45,151 : INFO : episode:230， episode_reward：84.0, average_reward:54.5\n",
            "2020-06-13 04:06:51,292 : INFO : episode:240， episode_reward：73.0, average_reward:55.44444444444444\n",
            "2020-06-13 04:07:51,313 : INFO : episode:250， episode_reward：91.0, average_reward:55.963157894736845\n",
            "2020-06-13 04:09:10,496 : INFO : episode:260， episode_reward：50.0, average_reward:57.455\n",
            "2020-06-13 04:10:58,400 : INFO : episode:270， episode_reward：200.0, average_reward:60.3\n",
            "2020-06-13 04:11:51,285 : INFO : episode:280， episode_reward：13.0, average_reward:60.154545454545456\n",
            "2020-06-13 04:12:25,278 : INFO : episode:290， episode_reward：167.0, average_reward:59.12608695652174\n",
            "2020-06-13 04:14:01,095 : INFO : episode:300， episode_reward：56.0, average_reward:60.9375\n",
            "2020-06-13 04:15:22,030 : INFO : episode:310， episode_reward：65.0, average_reward:62.0\n",
            "2020-06-13 04:18:20,356 : INFO : episode:320， episode_reward：200.0, average_reward:67.08076923076923\n",
            "2020-06-13 04:20:17,195 : INFO : episode:330， episode_reward：43.0, average_reward:69.15925925925926\n",
            "2020-06-13 04:21:27,170 : INFO : episode:340， episode_reward：200.0, average_reward:69.375\n",
            "2020-06-13 04:24:33,885 : INFO : episode:350， episode_reward：200.0, average_reward:73.87931034482759\n",
            "2020-06-13 04:27:39,925 : INFO : episode:360， episode_reward：200.0, average_reward:78.08333333333333\n",
            "2020-06-13 04:34:38,170 : INFO : 平均奖励为19854.0/100=198.54\n"
          ],
          "name": "stderr"
        },
        {
          "output_type": "display_data",
          "data": {
            "image/png": "[encoded data removed]",
            "text/plain": [
              "<Figure size 432x288 with 1 Axes>"
            ]
          },
          "metadata": {
            "tags": [],
            "needs_background": "light"
          }
        }
      ]
    },
    {
      "cell_type": "markdown",
      "metadata": {
        "id": "trZubPYq9eI8",
        "colab_type": "text"
      },
      "source": [
        "370多轮训练后，目标为100个回合平均奖励超过195；模型结果为198.54，已到达预期目标。"
      ]
    },
    {
      "cell_type": "code",
      "metadata": {
        "id": "mRix-zqf4THF",
        "colab_type": "code",
        "colab": {}
      },
      "source": [
        "# env.close()"
      ],
      "execution_count": 0,
      "outputs": []
    }
  ]
}